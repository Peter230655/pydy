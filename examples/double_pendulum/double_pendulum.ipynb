{
 "cells": [
  {
   "cell_type": "markdown",
   "metadata": {
    "deletable": true,
    "editable": true
   },
   "source": [
    "# Double Pendulum #"
   ]
  },
  {
   "cell_type": "markdown",
   "metadata": {
    "deletable": true,
    "editable": true
   },
   "source": [
    "In this notebook, we are going to develop the EoMs for Double Pendulum system. We are going to derive EoMs, simulate them and finally visualize them.\n",
    "\n",
    "The code is loaded in the notebook using `%load` IPython magic, to avoid duplication of the code."
   ]
  },
  {
   "cell_type": "code",
   "execution_count": 1,
   "metadata": {
    "collapsed": false,
    "deletable": true,
    "editable": true,
    "jupyter": {
     "outputs_hidden": false
    }
   },
   "outputs": [],
   "source": [
    "# %load double_pendulum.py\n",
    "import sympy as sm\n",
    "import sympy.physics.mechanics as me\n",
    "\n",
    "q1, q2 = me.dynamicsymbols('q1 q2')\n",
    "q1d, q2d = me.dynamicsymbols('q1 q2', 1)\n",
    "u1, u2 = me.dynamicsymbols('u1 u2')\n",
    "u1d, u2d = me.dynamicsymbols('u1 u2', 1)\n",
    "l, m, g = sm.symbols('l m g')\n",
    "\n",
    "N = me.ReferenceFrame('N')\n",
    "A = N.orientnew('A', 'Axis', [q1, N.z])\n",
    "B = N.orientnew('B', 'Axis', [q2, N.z])\n",
    "\n",
    "A.set_ang_vel(N, u1 * N.z)\n",
    "B.set_ang_vel(N, u2 * N.z)\n",
    "\n",
    "O = me.Point('O')\n",
    "P = O.locatenew('P', l * A.x)\n",
    "R = P.locatenew('R', l * B.x)\n",
    "\n",
    "O.set_vel(N, 0)\n",
    "P.v2pt_theory(O, N, A)\n",
    "R.v2pt_theory(P, N, B)\n",
    "\n",
    "ParP = me.Particle('ParP', P, m)\n",
    "ParR = me.Particle('ParR', R, m)\n",
    "\n",
    "kd = [q1d - u1, q2d - u2]\n",
    "FL = [(P, m * g * N.x), (R, m * g * N.x)]\n",
    "BL = [ParP, ParR]\n",
    "\n",
    "KM = me.KanesMethod(N, q_ind=[q1, q2], u_ind=[u1, u2], kd_eqs=kd)\n",
    "KM.kanes_equations(BL, loads=FL)\n",
    "\n",
    "kdd = KM.kindiffdict()\n",
    "mass_matrix = KM.mass_matrix_full\n",
    "forcing_vector = KM.forcing_full\n",
    "qudots = mass_matrix.inv() * forcing_vector\n",
    "qudots = qudots.subs(kdd)\n"
   ]
  },
  {
   "cell_type": "code",
   "execution_count": 2,
   "metadata": {
    "collapsed": false,
    "deletable": true,
    "editable": true,
    "jupyter": {
     "outputs_hidden": false
    }
   },
   "outputs": [],
   "source": [
    "# %load simulate.py\n",
    "\"\"\"\n",
    "This file will use pydy.codegen to simulate the double pendulum.\n",
    "\n",
    "\"\"\"\n",
    "\n",
    "from numpy import linspace\n",
    "from pydy.system import System\n",
    "\n",
    "from double_pendulum import *\n",
    "\n",
    "constants = {l: 10.0, m: 10.0, g: 9.81}\n",
    "\n",
    "initial_conditions = {q1: 1.0, q2: 0.0, u1: 0.0, u2: 0.0}\n",
    "\n",
    "sys = System(KM, constants=constants, initial_conditions=initial_conditions)\n",
    "\n",
    "frames_per_sec = 60\n",
    "final_time = 5.0\n",
    "\n",
    "times = linspace(0.0, final_time, int(final_time * frames_per_sec))\n",
    "sys.times = times\n",
    "x = sys.integrate()\n"
   ]
  },
  {
   "cell_type": "code",
   "execution_count": 3,
   "metadata": {
    "collapsed": false,
    "deletable": true,
    "editable": true,
    "jupyter": {
     "outputs_hidden": false
    }
   },
   "outputs": [],
   "source": [
    "# %load visualize.py\n",
    "\"\"\"\n",
    "This file will use pydy.viz to visualize the double pendulum.  Run this script\n",
    "via a command line:\n",
    "\n",
    "    $ python visualization.py\n",
    "\n",
    "\"\"\"\n",
    "\n",
    "from numpy import pi\n",
    "\n",
    "from pydy.viz.shapes import Cylinder, Sphere\n",
    "from pydy.viz.scene import Scene\n",
    "from pydy.viz.visualization_frame import VisualizationFrame\n",
    "\n",
    "from simulate import *\n",
    "\n",
    "\n",
    "# Create geometry\n",
    "# ===============\n",
    "\n",
    "# Each link in the pendulum is visualized with a cylinder, and a sphere at its\n",
    "# far end.\n",
    "link = Cylinder(name='link', radius=0.5, length=l, color='red')\n",
    "sphere = Sphere(name='sphere', radius=1.0)\n",
    "\n",
    "# By default, Cylinders are drawn so that their center is at the origin of the\n",
    "# VisualizationFrame, and their axis is the y axis of the VisualizationFrame.\n",
    "# We want the end of the Cylinder to be at the origin of the\n",
    "# VisualizationFrame, and we want the Cylinder's axis to be aligned with the x\n",
    "# axis of the VisualizationFrame. For these reasons, we must use the\n",
    "# 'orientnew' and 'locatenew' methods to create new frames/points.\n",
    "linkP_frame = A.orientnew('frameP', 'Axis', [0.5 * pi, N.z])\n",
    "linkP_origin = O.locatenew('originP', 0.5 * l * A.x)\n",
    "linkP_viz_frame = VisualizationFrame('linkP', linkP_frame, linkP_origin, link)\n",
    "\n",
    "linkR_frame = B.orientnew('frameR', 'Axis', [0.5 * pi, N.z])\n",
    "linkR_origin = P.locatenew('originP', 0.5 * l * B.x)\n",
    "linkR_viz_frame = VisualizationFrame('linkR', linkR_frame, linkR_origin, link)\n",
    "\n",
    "sphereP_viz_frame = VisualizationFrame('sphereP', N, P, sphere)\n",
    "sphereR_viz_frame = VisualizationFrame('sphereR', N, R, sphere)\n",
    "\n",
    "\n",
    "# Construct the scene\n",
    "# ===================\n",
    "\n",
    "# We want gravity to be directed downwards in the visualization. Gravity is in\n",
    "# the -x direction. By default, the visualization uses the xz plane as the\n",
    "# ground plane. Thus, gravity is contained in the ground plane. However, we\n",
    "# want gravity to point in the -y direction in the visualization. To achieve\n",
    "# this, we create a world frame that is rotated +90 degrees about the N frame's\n",
    "# z direction.\n",
    "world_frame = N.orientnew('world', 'Axis', [0.5 * pi, N.z])\n",
    "scene = Scene(world_frame, O, linkP_viz_frame, linkR_viz_frame,\n",
    "              sphereP_viz_frame, sphereR_viz_frame)\n",
    "\n",
    "\n",
    "# Create the visualization\n",
    "# ========================\n",
    "\n",
    "scene.generate_visualization_json_system(sys)\n",
    "\n",
    "if __name__ == \"__main__\":\n",
    "    try:  # If called from inside notebook,\n",
    "        scene.display_jupyter()\n",
    "    except:  # If called from interpreter\n",
    "        scene.display()"
   ]
  }
 ],
 "metadata": {
  "kernelspec": {
   "display_name": "Python 3 (ipykernel)",
   "language": "python",
   "name": "python3"
  },
  "language_info": {
   "codemirror_mode": {
    "name": "ipython",
    "version": 3
   },
   "file_extension": ".py",
   "mimetype": "text/x-python",
   "name": "python",
   "nbconvert_exporter": "python",
   "pygments_lexer": "ipython3",
   "version": "3.10.14"
  }
 },
 "nbformat": 4,
 "nbformat_minor": 4
}
